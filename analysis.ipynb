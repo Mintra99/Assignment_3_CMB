{
 "cells": [
  {
   "cell_type": "code",
   "execution_count": 189,
   "metadata": {},
   "outputs": [],
   "source": [
    "import pandas as pd\n",
    "import numpy as np\n",
    "\n",
    "import json\n",
    "import glob"
   ]
  },
  {
   "cell_type": "code",
   "execution_count": null,
   "metadata": {},
   "outputs": [],
   "source": []
  },
  {
   "cell_type": "code",
   "execution_count": 228,
   "metadata": {},
   "outputs": [],
   "source": [
    "Home_Ping = glob.glob(\"Home/Ping/*\")\n",
    "LTE_Ping = glob.glob(\"LTE/Ping/*\")\n",
    "WIFI_Ping = glob.glob(\"WIFI/Ping/*\")\n",
    "Fiber_Ping = glob.glob(\"Fiber/Ping/*\")\n",
    "Cable_Ping = glob.glob(\"Cable/Ping/*\")\n"
   ]
  },
  {
   "cell_type": "code",
   "execution_count": 243,
   "metadata": {},
   "outputs": [],
   "source": [
    "uk = [\"49734670\", \"49734729\", \"49734632\", \"49162558\", \"49206580\"]\n",
    "ca = [\"49734671\", \"49734730\", \"49734633\", \"49206920\", \"49206841\"]\n",
    "india = [\"49734672\", \"49734731\", \"49734634\", \"49206768\", \"49206779\"]"
   ]
  },
  {
   "cell_type": "code",
   "execution_count": 244,
   "metadata": {},
   "outputs": [],
   "source": [
    "def createDataList(ping):\n",
    "    p_list = []\n",
    "    loc = None\n",
    "    for p in ping:\n",
    "        if any(loc in p for loc in uk):\n",
    "            loc = \"UK\"\n",
    "        elif any(loc in p for loc in ca):\n",
    "            loc = \"CA\"\n",
    "        elif any(loc in p for loc in india):\n",
    "            loc = \"IN\"\n",
    "        else:\n",
    "            return ValueError\n",
    "        f = open(p)\n",
    "        p_data = json.load(f)\n",
    "        for i in p_data:\n",
    "            fw = i[\"fw\"]\n",
    "            time = pd.to_datetime(i[\"timestamp\"], unit=\"s\")\n",
    "            min = i[\"min\"]\n",
    "            max = i[\"max\"]\n",
    "            avg = i[\"avg\"]\n",
    "            \n",
    "            p_list.append([int(fw), int(time.hour), int(min), int(max), int(avg), loc])\n",
    "    return p_list"
   ]
  },
  {
   "cell_type": "code",
   "execution_count": 247,
   "metadata": {},
   "outputs": [],
   "source": [
    "homeList = createDataList(Home_Ping)\n",
    "lteList = createDataList(LTE_Ping)\n",
    "wifiList = createDataList(WIFI_Ping)\n",
    "fiberList = createDataList(Fiber_Ping)\n",
    "cableList = createDataList(Cable_Ping)"
   ]
  },
  {
   "cell_type": "code",
   "execution_count": 248,
   "metadata": {},
   "outputs": [
    {
     "data": {
      "text/html": [
       "<div>\n",
       "<style scoped>\n",
       "    .dataframe tbody tr th:only-of-type {\n",
       "        vertical-align: middle;\n",
       "    }\n",
       "\n",
       "    .dataframe tbody tr th {\n",
       "        vertical-align: top;\n",
       "    }\n",
       "\n",
       "    .dataframe thead th {\n",
       "        text-align: right;\n",
       "    }\n",
       "</style>\n",
       "<table border=\"1\" class=\"dataframe\">\n",
       "  <thead>\n",
       "    <tr style=\"text-align: right;\">\n",
       "      <th></th>\n",
       "      <th>fw</th>\n",
       "      <th>timestamp</th>\n",
       "      <th>min</th>\n",
       "      <th>max</th>\n",
       "      <th>avg</th>\n",
       "      <th>loc</th>\n",
       "    </tr>\n",
       "  </thead>\n",
       "  <tbody>\n",
       "    <tr>\n",
       "      <th>0</th>\n",
       "      <td>5080</td>\n",
       "      <td>12</td>\n",
       "      <td>23</td>\n",
       "      <td>30</td>\n",
       "      <td>25</td>\n",
       "      <td>UK</td>\n",
       "    </tr>\n",
       "    <tr>\n",
       "      <th>1</th>\n",
       "      <td>4790</td>\n",
       "      <td>12</td>\n",
       "      <td>17</td>\n",
       "      <td>22</td>\n",
       "      <td>20</td>\n",
       "      <td>UK</td>\n",
       "    </tr>\n",
       "    <tr>\n",
       "      <th>2</th>\n",
       "      <td>4790</td>\n",
       "      <td>12</td>\n",
       "      <td>9</td>\n",
       "      <td>10</td>\n",
       "      <td>9</td>\n",
       "      <td>UK</td>\n",
       "    </tr>\n",
       "    <tr>\n",
       "      <th>3</th>\n",
       "      <td>5080</td>\n",
       "      <td>12</td>\n",
       "      <td>20</td>\n",
       "      <td>20</td>\n",
       "      <td>20</td>\n",
       "      <td>UK</td>\n",
       "    </tr>\n",
       "    <tr>\n",
       "      <th>4</th>\n",
       "      <td>4790</td>\n",
       "      <td>12</td>\n",
       "      <td>33</td>\n",
       "      <td>35</td>\n",
       "      <td>34</td>\n",
       "      <td>UK</td>\n",
       "    </tr>\n",
       "    <tr>\n",
       "      <th>...</th>\n",
       "      <td>...</td>\n",
       "      <td>...</td>\n",
       "      <td>...</td>\n",
       "      <td>...</td>\n",
       "      <td>...</td>\n",
       "      <td>...</td>\n",
       "    </tr>\n",
       "    <tr>\n",
       "      <th>45843</th>\n",
       "      <td>5080</td>\n",
       "      <td>12</td>\n",
       "      <td>99</td>\n",
       "      <td>100</td>\n",
       "      <td>99</td>\n",
       "      <td>CA</td>\n",
       "    </tr>\n",
       "    <tr>\n",
       "      <th>45844</th>\n",
       "      <td>5080</td>\n",
       "      <td>12</td>\n",
       "      <td>259</td>\n",
       "      <td>260</td>\n",
       "      <td>259</td>\n",
       "      <td>CA</td>\n",
       "    </tr>\n",
       "    <tr>\n",
       "      <th>45845</th>\n",
       "      <td>5080</td>\n",
       "      <td>12</td>\n",
       "      <td>277</td>\n",
       "      <td>277</td>\n",
       "      <td>277</td>\n",
       "      <td>CA</td>\n",
       "    </tr>\n",
       "    <tr>\n",
       "      <th>45846</th>\n",
       "      <td>5080</td>\n",
       "      <td>12</td>\n",
       "      <td>282</td>\n",
       "      <td>282</td>\n",
       "      <td>282</td>\n",
       "      <td>CA</td>\n",
       "    </tr>\n",
       "    <tr>\n",
       "      <th>45847</th>\n",
       "      <td>5080</td>\n",
       "      <td>12</td>\n",
       "      <td>117</td>\n",
       "      <td>118</td>\n",
       "      <td>117</td>\n",
       "      <td>CA</td>\n",
       "    </tr>\n",
       "  </tbody>\n",
       "</table>\n",
       "<p>45848 rows × 6 columns</p>\n",
       "</div>"
      ],
      "text/plain": [
       "         fw  timestamp  min  max  avg loc\n",
       "0      5080         12   23   30   25  UK\n",
       "1      4790         12   17   22   20  UK\n",
       "2      4790         12    9   10    9  UK\n",
       "3      5080         12   20   20   20  UK\n",
       "4      4790         12   33   35   34  UK\n",
       "...     ...        ...  ...  ...  ...  ..\n",
       "45843  5080         12   99  100   99  CA\n",
       "45844  5080         12  259  260  259  CA\n",
       "45845  5080         12  277  277  277  CA\n",
       "45846  5080         12  282  282  282  CA\n",
       "45847  5080         12  117  118  117  CA\n",
       "\n",
       "[45848 rows x 6 columns]"
      ]
     },
     "execution_count": 248,
     "metadata": {},
     "output_type": "execute_result"
    }
   ],
   "source": [
    "df_homeping = pd.DataFrame (homeList, columns = ['fw', 'timestamp', 'min', 'max', 'avg', 'loc'])\n",
    "df_homeping"
   ]
  },
  {
   "cell_type": "code",
   "execution_count": 249,
   "metadata": {},
   "outputs": [
    {
     "data": {
      "text/html": [
       "<div>\n",
       "<style scoped>\n",
       "    .dataframe tbody tr th:only-of-type {\n",
       "        vertical-align: middle;\n",
       "    }\n",
       "\n",
       "    .dataframe tbody tr th {\n",
       "        vertical-align: top;\n",
       "    }\n",
       "\n",
       "    .dataframe thead th {\n",
       "        text-align: right;\n",
       "    }\n",
       "</style>\n",
       "<table border=\"1\" class=\"dataframe\">\n",
       "  <thead>\n",
       "    <tr style=\"text-align: right;\">\n",
       "      <th></th>\n",
       "      <th>fw</th>\n",
       "      <th>timestamp</th>\n",
       "      <th>min</th>\n",
       "      <th>max</th>\n",
       "      <th>avg</th>\n",
       "      <th>loc</th>\n",
       "    </tr>\n",
       "  </thead>\n",
       "  <tbody>\n",
       "    <tr>\n",
       "      <th>0</th>\n",
       "      <td>5080</td>\n",
       "      <td>19</td>\n",
       "      <td>29</td>\n",
       "      <td>44</td>\n",
       "      <td>36</td>\n",
       "      <td>UK</td>\n",
       "    </tr>\n",
       "    <tr>\n",
       "      <th>1</th>\n",
       "      <td>5040</td>\n",
       "      <td>19</td>\n",
       "      <td>28</td>\n",
       "      <td>28</td>\n",
       "      <td>28</td>\n",
       "      <td>UK</td>\n",
       "    </tr>\n",
       "    <tr>\n",
       "      <th>2</th>\n",
       "      <td>5080</td>\n",
       "      <td>19</td>\n",
       "      <td>41</td>\n",
       "      <td>44</td>\n",
       "      <td>43</td>\n",
       "      <td>UK</td>\n",
       "    </tr>\n",
       "    <tr>\n",
       "      <th>3</th>\n",
       "      <td>5020</td>\n",
       "      <td>19</td>\n",
       "      <td>57</td>\n",
       "      <td>77</td>\n",
       "      <td>64</td>\n",
       "      <td>UK</td>\n",
       "    </tr>\n",
       "    <tr>\n",
       "      <th>4</th>\n",
       "      <td>5020</td>\n",
       "      <td>19</td>\n",
       "      <td>106</td>\n",
       "      <td>115</td>\n",
       "      <td>111</td>\n",
       "      <td>UK</td>\n",
       "    </tr>\n",
       "    <tr>\n",
       "      <th>...</th>\n",
       "      <td>...</td>\n",
       "      <td>...</td>\n",
       "      <td>...</td>\n",
       "      <td>...</td>\n",
       "      <td>...</td>\n",
       "      <td>...</td>\n",
       "    </tr>\n",
       "    <tr>\n",
       "      <th>42384</th>\n",
       "      <td>5080</td>\n",
       "      <td>12</td>\n",
       "      <td>153</td>\n",
       "      <td>158</td>\n",
       "      <td>155</td>\n",
       "      <td>CA</td>\n",
       "    </tr>\n",
       "    <tr>\n",
       "      <th>42385</th>\n",
       "      <td>5080</td>\n",
       "      <td>12</td>\n",
       "      <td>126</td>\n",
       "      <td>162</td>\n",
       "      <td>142</td>\n",
       "      <td>CA</td>\n",
       "    </tr>\n",
       "    <tr>\n",
       "      <th>42386</th>\n",
       "      <td>5080</td>\n",
       "      <td>12</td>\n",
       "      <td>143</td>\n",
       "      <td>166</td>\n",
       "      <td>152</td>\n",
       "      <td>CA</td>\n",
       "    </tr>\n",
       "    <tr>\n",
       "      <th>42387</th>\n",
       "      <td>5030</td>\n",
       "      <td>12</td>\n",
       "      <td>22</td>\n",
       "      <td>56</td>\n",
       "      <td>44</td>\n",
       "      <td>CA</td>\n",
       "    </tr>\n",
       "    <tr>\n",
       "      <th>42388</th>\n",
       "      <td>5080</td>\n",
       "      <td>12</td>\n",
       "      <td>242</td>\n",
       "      <td>243</td>\n",
       "      <td>243</td>\n",
       "      <td>CA</td>\n",
       "    </tr>\n",
       "  </tbody>\n",
       "</table>\n",
       "<p>42389 rows × 6 columns</p>\n",
       "</div>"
      ],
      "text/plain": [
       "         fw  timestamp  min  max  avg loc\n",
       "0      5080         19   29   44   36  UK\n",
       "1      5040         19   28   28   28  UK\n",
       "2      5080         19   41   44   43  UK\n",
       "3      5020         19   57   77   64  UK\n",
       "4      5020         19  106  115  111  UK\n",
       "...     ...        ...  ...  ...  ...  ..\n",
       "42384  5080         12  153  158  155  CA\n",
       "42385  5080         12  126  162  142  CA\n",
       "42386  5080         12  143  166  152  CA\n",
       "42387  5030         12   22   56   44  CA\n",
       "42388  5080         12  242  243  243  CA\n",
       "\n",
       "[42389 rows x 6 columns]"
      ]
     },
     "execution_count": 249,
     "metadata": {},
     "output_type": "execute_result"
    }
   ],
   "source": [
    "df_lteping = pd.DataFrame (lteList, columns = ['fw', 'timestamp', 'min', 'max', 'avg', 'loc'])\n",
    "df_lteping"
   ]
  },
  {
   "cell_type": "code",
   "execution_count": 250,
   "metadata": {},
   "outputs": [
    {
     "data": {
      "text/html": [
       "<div>\n",
       "<style scoped>\n",
       "    .dataframe tbody tr th:only-of-type {\n",
       "        vertical-align: middle;\n",
       "    }\n",
       "\n",
       "    .dataframe tbody tr th {\n",
       "        vertical-align: top;\n",
       "    }\n",
       "\n",
       "    .dataframe thead th {\n",
       "        text-align: right;\n",
       "    }\n",
       "</style>\n",
       "<table border=\"1\" class=\"dataframe\">\n",
       "  <thead>\n",
       "    <tr style=\"text-align: right;\">\n",
       "      <th></th>\n",
       "      <th>fw</th>\n",
       "      <th>timestamp</th>\n",
       "      <th>min</th>\n",
       "      <th>max</th>\n",
       "      <th>avg</th>\n",
       "      <th>loc</th>\n",
       "    </tr>\n",
       "  </thead>\n",
       "  <tbody>\n",
       "    <tr>\n",
       "      <th>0</th>\n",
       "      <td>5080</td>\n",
       "      <td>10</td>\n",
       "      <td>36</td>\n",
       "      <td>37</td>\n",
       "      <td>37</td>\n",
       "      <td>UK</td>\n",
       "    </tr>\n",
       "    <tr>\n",
       "      <th>1</th>\n",
       "      <td>5080</td>\n",
       "      <td>10</td>\n",
       "      <td>41</td>\n",
       "      <td>41</td>\n",
       "      <td>41</td>\n",
       "      <td>UK</td>\n",
       "    </tr>\n",
       "    <tr>\n",
       "      <th>2</th>\n",
       "      <td>5080</td>\n",
       "      <td>10</td>\n",
       "      <td>41</td>\n",
       "      <td>50</td>\n",
       "      <td>45</td>\n",
       "      <td>UK</td>\n",
       "    </tr>\n",
       "    <tr>\n",
       "      <th>3</th>\n",
       "      <td>5020</td>\n",
       "      <td>10</td>\n",
       "      <td>225</td>\n",
       "      <td>225</td>\n",
       "      <td>225</td>\n",
       "      <td>UK</td>\n",
       "    </tr>\n",
       "    <tr>\n",
       "      <th>4</th>\n",
       "      <td>5080</td>\n",
       "      <td>10</td>\n",
       "      <td>49</td>\n",
       "      <td>52</td>\n",
       "      <td>50</td>\n",
       "      <td>UK</td>\n",
       "    </tr>\n",
       "    <tr>\n",
       "      <th>...</th>\n",
       "      <td>...</td>\n",
       "      <td>...</td>\n",
       "      <td>...</td>\n",
       "      <td>...</td>\n",
       "      <td>...</td>\n",
       "      <td>...</td>\n",
       "    </tr>\n",
       "    <tr>\n",
       "      <th>37872</th>\n",
       "      <td>5080</td>\n",
       "      <td>9</td>\n",
       "      <td>138</td>\n",
       "      <td>139</td>\n",
       "      <td>138</td>\n",
       "      <td>IN</td>\n",
       "    </tr>\n",
       "    <tr>\n",
       "      <th>37873</th>\n",
       "      <td>5080</td>\n",
       "      <td>9</td>\n",
       "      <td>233</td>\n",
       "      <td>237</td>\n",
       "      <td>236</td>\n",
       "      <td>IN</td>\n",
       "    </tr>\n",
       "    <tr>\n",
       "      <th>37874</th>\n",
       "      <td>4790</td>\n",
       "      <td>9</td>\n",
       "      <td>172</td>\n",
       "      <td>173</td>\n",
       "      <td>172</td>\n",
       "      <td>IN</td>\n",
       "    </tr>\n",
       "    <tr>\n",
       "      <th>37875</th>\n",
       "      <td>4790</td>\n",
       "      <td>9</td>\n",
       "      <td>56</td>\n",
       "      <td>73</td>\n",
       "      <td>62</td>\n",
       "      <td>IN</td>\n",
       "    </tr>\n",
       "    <tr>\n",
       "      <th>37876</th>\n",
       "      <td>5080</td>\n",
       "      <td>9</td>\n",
       "      <td>209</td>\n",
       "      <td>210</td>\n",
       "      <td>210</td>\n",
       "      <td>IN</td>\n",
       "    </tr>\n",
       "  </tbody>\n",
       "</table>\n",
       "<p>37877 rows × 6 columns</p>\n",
       "</div>"
      ],
      "text/plain": [
       "         fw  timestamp  min  max  avg loc\n",
       "0      5080         10   36   37   37  UK\n",
       "1      5080         10   41   41   41  UK\n",
       "2      5080         10   41   50   45  UK\n",
       "3      5020         10  225  225  225  UK\n",
       "4      5080         10   49   52   50  UK\n",
       "...     ...        ...  ...  ...  ...  ..\n",
       "37872  5080          9  138  139  138  IN\n",
       "37873  5080          9  233  237  236  IN\n",
       "37874  4790          9  172  173  172  IN\n",
       "37875  4790          9   56   73   62  IN\n",
       "37876  5080          9  209  210  210  IN\n",
       "\n",
       "[37877 rows x 6 columns]"
      ]
     },
     "execution_count": 250,
     "metadata": {},
     "output_type": "execute_result"
    }
   ],
   "source": [
    "df_wifiping = pd.DataFrame (wifiList, columns = ['fw', 'timestamp', 'min', 'max', 'avg', 'loc'])\n",
    "df_wifiping"
   ]
  },
  {
   "cell_type": "code",
   "execution_count": 251,
   "metadata": {},
   "outputs": [
    {
     "data": {
      "text/html": [
       "<div>\n",
       "<style scoped>\n",
       "    .dataframe tbody tr th:only-of-type {\n",
       "        vertical-align: middle;\n",
       "    }\n",
       "\n",
       "    .dataframe tbody tr th {\n",
       "        vertical-align: top;\n",
       "    }\n",
       "\n",
       "    .dataframe thead th {\n",
       "        text-align: right;\n",
       "    }\n",
       "</style>\n",
       "<table border=\"1\" class=\"dataframe\">\n",
       "  <thead>\n",
       "    <tr style=\"text-align: right;\">\n",
       "      <th></th>\n",
       "      <th>fw</th>\n",
       "      <th>timestamp</th>\n",
       "      <th>min</th>\n",
       "      <th>max</th>\n",
       "      <th>avg</th>\n",
       "      <th>loc</th>\n",
       "    </tr>\n",
       "  </thead>\n",
       "  <tbody>\n",
       "    <tr>\n",
       "      <th>0</th>\n",
       "      <td>4790</td>\n",
       "      <td>10</td>\n",
       "      <td>80</td>\n",
       "      <td>80</td>\n",
       "      <td>80</td>\n",
       "      <td>UK</td>\n",
       "    </tr>\n",
       "    <tr>\n",
       "      <th>1</th>\n",
       "      <td>4790</td>\n",
       "      <td>10</td>\n",
       "      <td>31</td>\n",
       "      <td>31</td>\n",
       "      <td>31</td>\n",
       "      <td>UK</td>\n",
       "    </tr>\n",
       "    <tr>\n",
       "      <th>2</th>\n",
       "      <td>4790</td>\n",
       "      <td>10</td>\n",
       "      <td>10</td>\n",
       "      <td>11</td>\n",
       "      <td>11</td>\n",
       "      <td>UK</td>\n",
       "    </tr>\n",
       "    <tr>\n",
       "      <th>3</th>\n",
       "      <td>4790</td>\n",
       "      <td>10</td>\n",
       "      <td>23</td>\n",
       "      <td>23</td>\n",
       "      <td>23</td>\n",
       "      <td>UK</td>\n",
       "    </tr>\n",
       "    <tr>\n",
       "      <th>4</th>\n",
       "      <td>4790</td>\n",
       "      <td>10</td>\n",
       "      <td>24</td>\n",
       "      <td>25</td>\n",
       "      <td>25</td>\n",
       "      <td>UK</td>\n",
       "    </tr>\n",
       "    <tr>\n",
       "      <th>...</th>\n",
       "      <td>...</td>\n",
       "      <td>...</td>\n",
       "      <td>...</td>\n",
       "      <td>...</td>\n",
       "      <td>...</td>\n",
       "      <td>...</td>\n",
       "    </tr>\n",
       "    <tr>\n",
       "      <th>40107</th>\n",
       "      <td>4790</td>\n",
       "      <td>9</td>\n",
       "      <td>135</td>\n",
       "      <td>136</td>\n",
       "      <td>135</td>\n",
       "      <td>IN</td>\n",
       "    </tr>\n",
       "    <tr>\n",
       "      <th>40108</th>\n",
       "      <td>4790</td>\n",
       "      <td>9</td>\n",
       "      <td>269</td>\n",
       "      <td>272</td>\n",
       "      <td>270</td>\n",
       "      <td>IN</td>\n",
       "    </tr>\n",
       "    <tr>\n",
       "      <th>40109</th>\n",
       "      <td>4790</td>\n",
       "      <td>9</td>\n",
       "      <td>146</td>\n",
       "      <td>148</td>\n",
       "      <td>147</td>\n",
       "      <td>IN</td>\n",
       "    </tr>\n",
       "    <tr>\n",
       "      <th>40110</th>\n",
       "      <td>4790</td>\n",
       "      <td>9</td>\n",
       "      <td>131</td>\n",
       "      <td>167</td>\n",
       "      <td>148</td>\n",
       "      <td>IN</td>\n",
       "    </tr>\n",
       "    <tr>\n",
       "      <th>40111</th>\n",
       "      <td>4790</td>\n",
       "      <td>9</td>\n",
       "      <td>184</td>\n",
       "      <td>184</td>\n",
       "      <td>184</td>\n",
       "      <td>IN</td>\n",
       "    </tr>\n",
       "  </tbody>\n",
       "</table>\n",
       "<p>40112 rows × 6 columns</p>\n",
       "</div>"
      ],
      "text/plain": [
       "         fw  timestamp  min  max  avg loc\n",
       "0      4790         10   80   80   80  UK\n",
       "1      4790         10   31   31   31  UK\n",
       "2      4790         10   10   11   11  UK\n",
       "3      4790         10   23   23   23  UK\n",
       "4      4790         10   24   25   25  UK\n",
       "...     ...        ...  ...  ...  ...  ..\n",
       "40107  4790          9  135  136  135  IN\n",
       "40108  4790          9  269  272  270  IN\n",
       "40109  4790          9  146  148  147  IN\n",
       "40110  4790          9  131  167  148  IN\n",
       "40111  4790          9  184  184  184  IN\n",
       "\n",
       "[40112 rows x 6 columns]"
      ]
     },
     "execution_count": 251,
     "metadata": {},
     "output_type": "execute_result"
    }
   ],
   "source": [
    "df_fiberping = pd.DataFrame (fiberList, columns = ['fw', 'timestamp', 'min', 'max', 'avg', 'loc'])\n",
    "df_fiberping"
   ]
  },
  {
   "cell_type": "code",
   "execution_count": 252,
   "metadata": {},
   "outputs": [
    {
     "data": {
      "text/html": [
       "<div>\n",
       "<style scoped>\n",
       "    .dataframe tbody tr th:only-of-type {\n",
       "        vertical-align: middle;\n",
       "    }\n",
       "\n",
       "    .dataframe tbody tr th {\n",
       "        vertical-align: top;\n",
       "    }\n",
       "\n",
       "    .dataframe thead th {\n",
       "        text-align: right;\n",
       "    }\n",
       "</style>\n",
       "<table border=\"1\" class=\"dataframe\">\n",
       "  <thead>\n",
       "    <tr style=\"text-align: right;\">\n",
       "      <th></th>\n",
       "      <th>fw</th>\n",
       "      <th>timestamp</th>\n",
       "      <th>min</th>\n",
       "      <th>max</th>\n",
       "      <th>avg</th>\n",
       "      <th>loc</th>\n",
       "    </tr>\n",
       "  </thead>\n",
       "  <tbody>\n",
       "    <tr>\n",
       "      <th>0</th>\n",
       "      <td>4790</td>\n",
       "      <td>10</td>\n",
       "      <td>252</td>\n",
       "      <td>256</td>\n",
       "      <td>254</td>\n",
       "      <td>UK</td>\n",
       "    </tr>\n",
       "    <tr>\n",
       "      <th>1</th>\n",
       "      <td>4790</td>\n",
       "      <td>10</td>\n",
       "      <td>91</td>\n",
       "      <td>92</td>\n",
       "      <td>92</td>\n",
       "      <td>UK</td>\n",
       "    </tr>\n",
       "    <tr>\n",
       "      <th>2</th>\n",
       "      <td>5080</td>\n",
       "      <td>10</td>\n",
       "      <td>41</td>\n",
       "      <td>66</td>\n",
       "      <td>53</td>\n",
       "      <td>UK</td>\n",
       "    </tr>\n",
       "    <tr>\n",
       "      <th>3</th>\n",
       "      <td>5080</td>\n",
       "      <td>10</td>\n",
       "      <td>107</td>\n",
       "      <td>132</td>\n",
       "      <td>116</td>\n",
       "      <td>UK</td>\n",
       "    </tr>\n",
       "    <tr>\n",
       "      <th>4</th>\n",
       "      <td>5080</td>\n",
       "      <td>10</td>\n",
       "      <td>106</td>\n",
       "      <td>111</td>\n",
       "      <td>108</td>\n",
       "      <td>UK</td>\n",
       "    </tr>\n",
       "    <tr>\n",
       "      <th>...</th>\n",
       "      <td>...</td>\n",
       "      <td>...</td>\n",
       "      <td>...</td>\n",
       "      <td>...</td>\n",
       "      <td>...</td>\n",
       "      <td>...</td>\n",
       "    </tr>\n",
       "    <tr>\n",
       "      <th>75859</th>\n",
       "      <td>4790</td>\n",
       "      <td>9</td>\n",
       "      <td>-1</td>\n",
       "      <td>-1</td>\n",
       "      <td>-1</td>\n",
       "      <td>IN</td>\n",
       "    </tr>\n",
       "    <tr>\n",
       "      <th>75860</th>\n",
       "      <td>4790</td>\n",
       "      <td>9</td>\n",
       "      <td>150</td>\n",
       "      <td>153</td>\n",
       "      <td>152</td>\n",
       "      <td>IN</td>\n",
       "    </tr>\n",
       "    <tr>\n",
       "      <th>75861</th>\n",
       "      <td>5080</td>\n",
       "      <td>10</td>\n",
       "      <td>124</td>\n",
       "      <td>124</td>\n",
       "      <td>124</td>\n",
       "      <td>IN</td>\n",
       "    </tr>\n",
       "    <tr>\n",
       "      <th>75862</th>\n",
       "      <td>5080</td>\n",
       "      <td>10</td>\n",
       "      <td>248</td>\n",
       "      <td>249</td>\n",
       "      <td>249</td>\n",
       "      <td>IN</td>\n",
       "    </tr>\n",
       "    <tr>\n",
       "      <th>75863</th>\n",
       "      <td>4770</td>\n",
       "      <td>10</td>\n",
       "      <td>215</td>\n",
       "      <td>225</td>\n",
       "      <td>219</td>\n",
       "      <td>IN</td>\n",
       "    </tr>\n",
       "  </tbody>\n",
       "</table>\n",
       "<p>75864 rows × 6 columns</p>\n",
       "</div>"
      ],
      "text/plain": [
       "         fw  timestamp  min  max  avg loc\n",
       "0      4790         10  252  256  254  UK\n",
       "1      4790         10   91   92   92  UK\n",
       "2      5080         10   41   66   53  UK\n",
       "3      5080         10  107  132  116  UK\n",
       "4      5080         10  106  111  108  UK\n",
       "...     ...        ...  ...  ...  ...  ..\n",
       "75859  4790          9   -1   -1   -1  IN\n",
       "75860  4790          9  150  153  152  IN\n",
       "75861  5080         10  124  124  124  IN\n",
       "75862  5080         10  248  249  249  IN\n",
       "75863  4770         10  215  225  219  IN\n",
       "\n",
       "[75864 rows x 6 columns]"
      ]
     },
     "execution_count": 252,
     "metadata": {},
     "output_type": "execute_result"
    }
   ],
   "source": [
    "df_cableping = pd.DataFrame (cableList, columns = ['fw', 'timestamp', 'min', 'max', 'avg', 'loc'])\n",
    "df_cableping"
   ]
  },
  {
   "cell_type": "markdown",
   "metadata": {},
   "source": [
    "Description of all"
   ]
  },
  {
   "cell_type": "code",
   "execution_count": 202,
   "metadata": {},
   "outputs": [
    {
     "data": {
      "text/html": [
       "<div>\n",
       "<style scoped>\n",
       "    .dataframe tbody tr th:only-of-type {\n",
       "        vertical-align: middle;\n",
       "    }\n",
       "\n",
       "    .dataframe tbody tr th {\n",
       "        vertical-align: top;\n",
       "    }\n",
       "\n",
       "    .dataframe thead th {\n",
       "        text-align: right;\n",
       "    }\n",
       "</style>\n",
       "<table border=\"1\" class=\"dataframe\">\n",
       "  <thead>\n",
       "    <tr style=\"text-align: right;\">\n",
       "      <th></th>\n",
       "      <th>fw</th>\n",
       "      <th>timestamp</th>\n",
       "      <th>min</th>\n",
       "      <th>max</th>\n",
       "      <th>avg</th>\n",
       "    </tr>\n",
       "  </thead>\n",
       "  <tbody>\n",
       "    <tr>\n",
       "      <th>count</th>\n",
       "      <td>45848.000000</td>\n",
       "      <td>45848.000000</td>\n",
       "      <td>45848.000000</td>\n",
       "      <td>45848.000000</td>\n",
       "      <td>45848.000000</td>\n",
       "    </tr>\n",
       "    <tr>\n",
       "      <th>mean</th>\n",
       "      <td>5051.808585</td>\n",
       "      <td>11.510360</td>\n",
       "      <td>115.838008</td>\n",
       "      <td>119.997514</td>\n",
       "      <td>117.627312</td>\n",
       "    </tr>\n",
       "    <tr>\n",
       "      <th>std</th>\n",
       "      <td>81.794980</td>\n",
       "      <td>6.944569</td>\n",
       "      <td>71.717880</td>\n",
       "      <td>75.014552</td>\n",
       "      <td>72.345754</td>\n",
       "    </tr>\n",
       "    <tr>\n",
       "      <th>min</th>\n",
       "      <td>4790.000000</td>\n",
       "      <td>0.000000</td>\n",
       "      <td>-1.000000</td>\n",
       "      <td>-1.000000</td>\n",
       "      <td>-1.000000</td>\n",
       "    </tr>\n",
       "    <tr>\n",
       "      <th>25%</th>\n",
       "      <td>5080.000000</td>\n",
       "      <td>5.000000</td>\n",
       "      <td>50.000000</td>\n",
       "      <td>55.000000</td>\n",
       "      <td>52.000000</td>\n",
       "    </tr>\n",
       "    <tr>\n",
       "      <th>50%</th>\n",
       "      <td>5080.000000</td>\n",
       "      <td>12.000000</td>\n",
       "      <td>117.000000</td>\n",
       "      <td>120.000000</td>\n",
       "      <td>118.000000</td>\n",
       "    </tr>\n",
       "    <tr>\n",
       "      <th>75%</th>\n",
       "      <td>5080.000000</td>\n",
       "      <td>18.000000</td>\n",
       "      <td>148.000000</td>\n",
       "      <td>150.000000</td>\n",
       "      <td>149.000000</td>\n",
       "    </tr>\n",
       "    <tr>\n",
       "      <th>max</th>\n",
       "      <td>5080.000000</td>\n",
       "      <td>23.000000</td>\n",
       "      <td>565.000000</td>\n",
       "      <td>1581.000000</td>\n",
       "      <td>853.000000</td>\n",
       "    </tr>\n",
       "  </tbody>\n",
       "</table>\n",
       "</div>"
      ],
      "text/plain": [
       "                 fw     timestamp           min           max           avg\n",
       "count  45848.000000  45848.000000  45848.000000  45848.000000  45848.000000\n",
       "mean    5051.808585     11.510360    115.838008    119.997514    117.627312\n",
       "std       81.794980      6.944569     71.717880     75.014552     72.345754\n",
       "min     4790.000000      0.000000     -1.000000     -1.000000     -1.000000\n",
       "25%     5080.000000      5.000000     50.000000     55.000000     52.000000\n",
       "50%     5080.000000     12.000000    117.000000    120.000000    118.000000\n",
       "75%     5080.000000     18.000000    148.000000    150.000000    149.000000\n",
       "max     5080.000000     23.000000    565.000000   1581.000000    853.000000"
      ]
     },
     "execution_count": 202,
     "metadata": {},
     "output_type": "execute_result"
    }
   ],
   "source": [
    "df_homeping.describe()"
   ]
  },
  {
   "cell_type": "code",
   "execution_count": 203,
   "metadata": {},
   "outputs": [
    {
     "data": {
      "text/html": [
       "<div>\n",
       "<style scoped>\n",
       "    .dataframe tbody tr th:only-of-type {\n",
       "        vertical-align: middle;\n",
       "    }\n",
       "\n",
       "    .dataframe tbody tr th {\n",
       "        vertical-align: top;\n",
       "    }\n",
       "\n",
       "    .dataframe thead th {\n",
       "        text-align: right;\n",
       "    }\n",
       "</style>\n",
       "<table border=\"1\" class=\"dataframe\">\n",
       "  <thead>\n",
       "    <tr style=\"text-align: right;\">\n",
       "      <th></th>\n",
       "      <th>fw</th>\n",
       "      <th>timestamp</th>\n",
       "      <th>min</th>\n",
       "      <th>max</th>\n",
       "      <th>avg</th>\n",
       "    </tr>\n",
       "  </thead>\n",
       "  <tbody>\n",
       "    <tr>\n",
       "      <th>count</th>\n",
       "      <td>42389.000000</td>\n",
       "      <td>42389.000000</td>\n",
       "      <td>42389.000000</td>\n",
       "      <td>42389.000000</td>\n",
       "      <td>42389.000000</td>\n",
       "    </tr>\n",
       "    <tr>\n",
       "      <th>mean</th>\n",
       "      <td>5050.047583</td>\n",
       "      <td>11.453325</td>\n",
       "      <td>107.324589</td>\n",
       "      <td>120.397839</td>\n",
       "      <td>113.083654</td>\n",
       "    </tr>\n",
       "    <tr>\n",
       "      <th>std</th>\n",
       "      <td>80.518932</td>\n",
       "      <td>6.933178</td>\n",
       "      <td>78.547317</td>\n",
       "      <td>95.350735</td>\n",
       "      <td>83.972261</td>\n",
       "    </tr>\n",
       "    <tr>\n",
       "      <th>min</th>\n",
       "      <td>4770.000000</td>\n",
       "      <td>0.000000</td>\n",
       "      <td>-1.000000</td>\n",
       "      <td>-1.000000</td>\n",
       "      <td>-1.000000</td>\n",
       "    </tr>\n",
       "    <tr>\n",
       "      <th>25%</th>\n",
       "      <td>5080.000000</td>\n",
       "      <td>5.000000</td>\n",
       "      <td>37.000000</td>\n",
       "      <td>43.000000</td>\n",
       "      <td>41.000000</td>\n",
       "    </tr>\n",
       "    <tr>\n",
       "      <th>50%</th>\n",
       "      <td>5080.000000</td>\n",
       "      <td>11.000000</td>\n",
       "      <td>101.000000</td>\n",
       "      <td>111.000000</td>\n",
       "      <td>106.000000</td>\n",
       "    </tr>\n",
       "    <tr>\n",
       "      <th>75%</th>\n",
       "      <td>5080.000000</td>\n",
       "      <td>17.000000</td>\n",
       "      <td>153.000000</td>\n",
       "      <td>165.000000</td>\n",
       "      <td>158.000000</td>\n",
       "    </tr>\n",
       "    <tr>\n",
       "      <th>max</th>\n",
       "      <td>5081.000000</td>\n",
       "      <td>23.000000</td>\n",
       "      <td>954.000000</td>\n",
       "      <td>1719.000000</td>\n",
       "      <td>1163.000000</td>\n",
       "    </tr>\n",
       "  </tbody>\n",
       "</table>\n",
       "</div>"
      ],
      "text/plain": [
       "                 fw     timestamp           min           max           avg\n",
       "count  42389.000000  42389.000000  42389.000000  42389.000000  42389.000000\n",
       "mean    5050.047583     11.453325    107.324589    120.397839    113.083654\n",
       "std       80.518932      6.933178     78.547317     95.350735     83.972261\n",
       "min     4770.000000      0.000000     -1.000000     -1.000000     -1.000000\n",
       "25%     5080.000000      5.000000     37.000000     43.000000     41.000000\n",
       "50%     5080.000000     11.000000    101.000000    111.000000    106.000000\n",
       "75%     5080.000000     17.000000    153.000000    165.000000    158.000000\n",
       "max     5081.000000     23.000000    954.000000   1719.000000   1163.000000"
      ]
     },
     "execution_count": 203,
     "metadata": {},
     "output_type": "execute_result"
    }
   ],
   "source": [
    "df_lteping.describe()"
   ]
  },
  {
   "cell_type": "code",
   "execution_count": 204,
   "metadata": {},
   "outputs": [
    {
     "data": {
      "text/html": [
       "<div>\n",
       "<style scoped>\n",
       "    .dataframe tbody tr th:only-of-type {\n",
       "        vertical-align: middle;\n",
       "    }\n",
       "\n",
       "    .dataframe tbody tr th {\n",
       "        vertical-align: top;\n",
       "    }\n",
       "\n",
       "    .dataframe thead th {\n",
       "        text-align: right;\n",
       "    }\n",
       "</style>\n",
       "<table border=\"1\" class=\"dataframe\">\n",
       "  <thead>\n",
       "    <tr style=\"text-align: right;\">\n",
       "      <th></th>\n",
       "      <th>fw</th>\n",
       "      <th>timestamp</th>\n",
       "      <th>min</th>\n",
       "      <th>max</th>\n",
       "      <th>avg</th>\n",
       "    </tr>\n",
       "  </thead>\n",
       "  <tbody>\n",
       "    <tr>\n",
       "      <th>count</th>\n",
       "      <td>75864.000000</td>\n",
       "      <td>75864.000000</td>\n",
       "      <td>75864.000000</td>\n",
       "      <td>75864.000000</td>\n",
       "      <td>75864.000000</td>\n",
       "    </tr>\n",
       "    <tr>\n",
       "      <th>mean</th>\n",
       "      <td>4907.728567</td>\n",
       "      <td>11.500685</td>\n",
       "      <td>120.396749</td>\n",
       "      <td>129.467982</td>\n",
       "      <td>124.135954</td>\n",
       "    </tr>\n",
       "    <tr>\n",
       "      <th>std</th>\n",
       "      <td>141.010222</td>\n",
       "      <td>6.921566</td>\n",
       "      <td>73.431524</td>\n",
       "      <td>169.287644</td>\n",
       "      <td>98.001913</td>\n",
       "    </tr>\n",
       "    <tr>\n",
       "      <th>min</th>\n",
       "      <td>4770.000000</td>\n",
       "      <td>0.000000</td>\n",
       "      <td>-1.000000</td>\n",
       "      <td>-1.000000</td>\n",
       "      <td>-1.000000</td>\n",
       "    </tr>\n",
       "    <tr>\n",
       "      <th>25%</th>\n",
       "      <td>4790.000000</td>\n",
       "      <td>5.750000</td>\n",
       "      <td>63.000000</td>\n",
       "      <td>68.000000</td>\n",
       "      <td>66.000000</td>\n",
       "    </tr>\n",
       "    <tr>\n",
       "      <th>50%</th>\n",
       "      <td>4790.000000</td>\n",
       "      <td>12.000000</td>\n",
       "      <td>122.000000</td>\n",
       "      <td>128.000000</td>\n",
       "      <td>125.000000</td>\n",
       "    </tr>\n",
       "    <tr>\n",
       "      <th>75%</th>\n",
       "      <td>5080.000000</td>\n",
       "      <td>17.000000</td>\n",
       "      <td>154.000000</td>\n",
       "      <td>159.000000</td>\n",
       "      <td>156.000000</td>\n",
       "    </tr>\n",
       "    <tr>\n",
       "      <th>max</th>\n",
       "      <td>5080.000000</td>\n",
       "      <td>23.000000</td>\n",
       "      <td>3564.000000</td>\n",
       "      <td>22694.000000</td>\n",
       "      <td>7901.000000</td>\n",
       "    </tr>\n",
       "  </tbody>\n",
       "</table>\n",
       "</div>"
      ],
      "text/plain": [
       "                 fw     timestamp           min           max           avg\n",
       "count  75864.000000  75864.000000  75864.000000  75864.000000  75864.000000\n",
       "mean    4907.728567     11.500685    120.396749    129.467982    124.135954\n",
       "std      141.010222      6.921566     73.431524    169.287644     98.001913\n",
       "min     4770.000000      0.000000     -1.000000     -1.000000     -1.000000\n",
       "25%     4790.000000      5.750000     63.000000     68.000000     66.000000\n",
       "50%     4790.000000     12.000000    122.000000    128.000000    125.000000\n",
       "75%     5080.000000     17.000000    154.000000    159.000000    156.000000\n",
       "max     5080.000000     23.000000   3564.000000  22694.000000   7901.000000"
      ]
     },
     "execution_count": 204,
     "metadata": {},
     "output_type": "execute_result"
    }
   ],
   "source": [
    "df_wifiping.describe()"
   ]
  },
  {
   "cell_type": "code",
   "execution_count": 205,
   "metadata": {},
   "outputs": [
    {
     "data": {
      "text/html": [
       "<div>\n",
       "<style scoped>\n",
       "    .dataframe tbody tr th:only-of-type {\n",
       "        vertical-align: middle;\n",
       "    }\n",
       "\n",
       "    .dataframe tbody tr th {\n",
       "        vertical-align: top;\n",
       "    }\n",
       "\n",
       "    .dataframe thead th {\n",
       "        text-align: right;\n",
       "    }\n",
       "</style>\n",
       "<table border=\"1\" class=\"dataframe\">\n",
       "  <thead>\n",
       "    <tr style=\"text-align: right;\">\n",
       "      <th></th>\n",
       "      <th>fw</th>\n",
       "      <th>timestamp</th>\n",
       "      <th>min</th>\n",
       "      <th>max</th>\n",
       "      <th>avg</th>\n",
       "    </tr>\n",
       "  </thead>\n",
       "  <tbody>\n",
       "    <tr>\n",
       "      <th>count</th>\n",
       "      <td>40112.0</td>\n",
       "      <td>40112.000000</td>\n",
       "      <td>40112.000000</td>\n",
       "      <td>40112.000000</td>\n",
       "      <td>40112.000000</td>\n",
       "    </tr>\n",
       "    <tr>\n",
       "      <th>mean</th>\n",
       "      <td>4790.0</td>\n",
       "      <td>11.505485</td>\n",
       "      <td>102.160575</td>\n",
       "      <td>108.195852</td>\n",
       "      <td>104.567037</td>\n",
       "    </tr>\n",
       "    <tr>\n",
       "      <th>std</th>\n",
       "      <td>0.0</td>\n",
       "      <td>6.921580</td>\n",
       "      <td>65.345407</td>\n",
       "      <td>111.193676</td>\n",
       "      <td>81.469558</td>\n",
       "    </tr>\n",
       "    <tr>\n",
       "      <th>min</th>\n",
       "      <td>4790.0</td>\n",
       "      <td>0.000000</td>\n",
       "      <td>-1.000000</td>\n",
       "      <td>-1.000000</td>\n",
       "      <td>-1.000000</td>\n",
       "    </tr>\n",
       "    <tr>\n",
       "      <th>25%</th>\n",
       "      <td>4790.0</td>\n",
       "      <td>6.000000</td>\n",
       "      <td>37.000000</td>\n",
       "      <td>39.000000</td>\n",
       "      <td>38.000000</td>\n",
       "    </tr>\n",
       "    <tr>\n",
       "      <th>50%</th>\n",
       "      <td>4790.0</td>\n",
       "      <td>12.000000</td>\n",
       "      <td>106.000000</td>\n",
       "      <td>110.000000</td>\n",
       "      <td>107.000000</td>\n",
       "    </tr>\n",
       "    <tr>\n",
       "      <th>75%</th>\n",
       "      <td>4790.0</td>\n",
       "      <td>17.000000</td>\n",
       "      <td>136.000000</td>\n",
       "      <td>139.000000</td>\n",
       "      <td>137.000000</td>\n",
       "    </tr>\n",
       "    <tr>\n",
       "      <th>max</th>\n",
       "      <td>4790.0</td>\n",
       "      <td>23.000000</td>\n",
       "      <td>2643.000000</td>\n",
       "      <td>10507.000000</td>\n",
       "      <td>7013.000000</td>\n",
       "    </tr>\n",
       "  </tbody>\n",
       "</table>\n",
       "</div>"
      ],
      "text/plain": [
       "            fw     timestamp           min           max           avg\n",
       "count  40112.0  40112.000000  40112.000000  40112.000000  40112.000000\n",
       "mean    4790.0     11.505485    102.160575    108.195852    104.567037\n",
       "std        0.0      6.921580     65.345407    111.193676     81.469558\n",
       "min     4790.0      0.000000     -1.000000     -1.000000     -1.000000\n",
       "25%     4790.0      6.000000     37.000000     39.000000     38.000000\n",
       "50%     4790.0     12.000000    106.000000    110.000000    107.000000\n",
       "75%     4790.0     17.000000    136.000000    139.000000    137.000000\n",
       "max     4790.0     23.000000   2643.000000  10507.000000   7013.000000"
      ]
     },
     "execution_count": 205,
     "metadata": {},
     "output_type": "execute_result"
    }
   ],
   "source": [
    "df_fiberping.describe()"
   ]
  },
  {
   "cell_type": "code",
   "execution_count": 253,
   "metadata": {},
   "outputs": [
    {
     "data": {
      "text/html": [
       "<div>\n",
       "<style scoped>\n",
       "    .dataframe tbody tr th:only-of-type {\n",
       "        vertical-align: middle;\n",
       "    }\n",
       "\n",
       "    .dataframe tbody tr th {\n",
       "        vertical-align: top;\n",
       "    }\n",
       "\n",
       "    .dataframe thead th {\n",
       "        text-align: right;\n",
       "    }\n",
       "</style>\n",
       "<table border=\"1\" class=\"dataframe\">\n",
       "  <thead>\n",
       "    <tr style=\"text-align: right;\">\n",
       "      <th></th>\n",
       "      <th>fw</th>\n",
       "      <th>timestamp</th>\n",
       "      <th>min</th>\n",
       "      <th>max</th>\n",
       "      <th>avg</th>\n",
       "    </tr>\n",
       "  </thead>\n",
       "  <tbody>\n",
       "    <tr>\n",
       "      <th>count</th>\n",
       "      <td>75864.000000</td>\n",
       "      <td>75864.000000</td>\n",
       "      <td>75864.000000</td>\n",
       "      <td>75864.000000</td>\n",
       "      <td>75864.000000</td>\n",
       "    </tr>\n",
       "    <tr>\n",
       "      <th>mean</th>\n",
       "      <td>4907.728567</td>\n",
       "      <td>11.500685</td>\n",
       "      <td>120.396749</td>\n",
       "      <td>129.467982</td>\n",
       "      <td>124.135954</td>\n",
       "    </tr>\n",
       "    <tr>\n",
       "      <th>std</th>\n",
       "      <td>141.010222</td>\n",
       "      <td>6.921566</td>\n",
       "      <td>73.431524</td>\n",
       "      <td>169.287644</td>\n",
       "      <td>98.001913</td>\n",
       "    </tr>\n",
       "    <tr>\n",
       "      <th>min</th>\n",
       "      <td>4770.000000</td>\n",
       "      <td>0.000000</td>\n",
       "      <td>-1.000000</td>\n",
       "      <td>-1.000000</td>\n",
       "      <td>-1.000000</td>\n",
       "    </tr>\n",
       "    <tr>\n",
       "      <th>25%</th>\n",
       "      <td>4790.000000</td>\n",
       "      <td>5.750000</td>\n",
       "      <td>63.000000</td>\n",
       "      <td>68.000000</td>\n",
       "      <td>66.000000</td>\n",
       "    </tr>\n",
       "    <tr>\n",
       "      <th>50%</th>\n",
       "      <td>4790.000000</td>\n",
       "      <td>12.000000</td>\n",
       "      <td>122.000000</td>\n",
       "      <td>128.000000</td>\n",
       "      <td>125.000000</td>\n",
       "    </tr>\n",
       "    <tr>\n",
       "      <th>75%</th>\n",
       "      <td>5080.000000</td>\n",
       "      <td>17.000000</td>\n",
       "      <td>154.000000</td>\n",
       "      <td>159.000000</td>\n",
       "      <td>156.000000</td>\n",
       "    </tr>\n",
       "    <tr>\n",
       "      <th>max</th>\n",
       "      <td>5080.000000</td>\n",
       "      <td>23.000000</td>\n",
       "      <td>3564.000000</td>\n",
       "      <td>22694.000000</td>\n",
       "      <td>7901.000000</td>\n",
       "    </tr>\n",
       "  </tbody>\n",
       "</table>\n",
       "</div>"
      ],
      "text/plain": [
       "                 fw     timestamp           min           max           avg\n",
       "count  75864.000000  75864.000000  75864.000000  75864.000000  75864.000000\n",
       "mean    4907.728567     11.500685    120.396749    129.467982    124.135954\n",
       "std      141.010222      6.921566     73.431524    169.287644     98.001913\n",
       "min     4770.000000      0.000000     -1.000000     -1.000000     -1.000000\n",
       "25%     4790.000000      5.750000     63.000000     68.000000     66.000000\n",
       "50%     4790.000000     12.000000    122.000000    128.000000    125.000000\n",
       "75%     5080.000000     17.000000    154.000000    159.000000    156.000000\n",
       "max     5080.000000     23.000000   3564.000000  22694.000000   7901.000000"
      ]
     },
     "execution_count": 253,
     "metadata": {},
     "output_type": "execute_result"
    }
   ],
   "source": [
    "df_cableping.describe()"
   ]
  },
  {
   "cell_type": "code",
   "execution_count": 206,
   "metadata": {},
   "outputs": [],
   "source": [
    "import matplotlib.pyplot as plt"
   ]
  },
  {
   "cell_type": "code",
   "execution_count": 207,
   "metadata": {},
   "outputs": [
    {
     "data": {
      "image/png": "[encoded data removed]",
      "text/plain": [
       "<Figure size 720x720 with 1 Axes>"
      ]
     },
     "metadata": {
      "needs_background": "light"
     },
     "output_type": "display_data"
    }
   ],
   "source": [
    "plt.figure(figsize=(10,10))\n",
    "plt.bar(df_homeping[\"timestamp\"], df_homeping[\"avg\"])\n",
    "plt.title(\"Home ping of all locations\")\n",
    "plt.show()"
   ]
  },
  {
   "cell_type": "code",
   "execution_count": 208,
   "metadata": {},
   "outputs": [
    {
     "data": {
      "image/png": "[encoded data removed]",
      "text/plain": [
       "<Figure size 720x720 with 1 Axes>"
      ]
     },
     "metadata": {
      "needs_background": "light"
     },
     "output_type": "display_data"
    }
   ],
   "source": [
    "plt.figure(figsize=(10,10))\n",
    "plt.bar(df_lteping[\"timestamp\"], df_lteping[\"avg\"])\n",
    "plt.title(\"LTE ping of all locations\")\n",
    "plt.show()"
   ]
  },
  {
   "cell_type": "code",
   "execution_count": null,
   "metadata": {},
   "outputs": [
    {
     "data": {
      "image/png": "[encoded data removed]",
      "text/plain": [
       "<Figure size 720x720 with 1 Axes>"
      ]
     },
     "metadata": {
      "needs_background": "light"
     },
     "output_type": "display_data"
    }
   ],
   "source": [
    "plt.figure(figsize=(10,10))\n",
    "plt.bar(df_wifiping[\"timestamp\"], df_wifiping[\"avg\"])\n",
    "plt.title(\"WiFi ping of all locations\")\n",
    "plt.show()"
   ]
  },
  {
   "cell_type": "code",
   "execution_count": 210,
   "metadata": {},
   "outputs": [
    {
     "data": {
      "image/png": "[encoded data removed]",
      "text/plain": [
       "<Figure size 720x720 with 1 Axes>"
      ]
     },
     "metadata": {
      "needs_background": "light"
     },
     "output_type": "display_data"
    }
   ],
   "source": [
    "plt.figure(figsize=(10,10))\n",
    "plt.bar(df_fiberping[\"timestamp\"], df_fiberping[\"avg\"])\n",
    "plt.title(\"Fiber ping of all locations\")\n",
    "plt.show()"
   ]
  },
  {
   "cell_type": "code",
   "execution_count": 254,
   "metadata": {},
   "outputs": [
    {
     "data": {
      "image/png": "[encoded data removed]",
      "text/plain": [
       "<Figure size 720x720 with 1 Axes>"
      ]
     },
     "metadata": {
      "needs_background": "light"
     },
     "output_type": "display_data"
    }
   ],
   "source": [
    "plt.figure(figsize=(10,10))\n",
    "plt.bar(df_cableping[\"timestamp\"], df_cableping[\"avg\"])\n",
    "plt.title(\"Cable ping of all locations\")\n",
    "plt.show()"
   ]
  },
  {
   "cell_type": "markdown",
   "metadata": {},
   "source": [
    "UK latency"
   ]
  },
  {
   "cell_type": "code",
   "execution_count": 255,
   "metadata": {},
   "outputs": [],
   "source": [
    "UK_homeping = df_homeping.loc[df_homeping['loc'] == 'UK']\n",
    "UK_fiberping = df_fiberping.loc[df_fiberping['loc'] == 'UK']\n",
    "UK_lteping = df_lteping.loc[df_lteping['loc'] == 'UK']\n",
    "UK_wifiping = df_wifiping.loc[df_wifiping['loc'] == 'UK']\n",
    "UK_cableping = df_cableping.loc[df_cableping['loc'] == 'UK']\n"
   ]
  },
  {
   "cell_type": "code",
   "execution_count": 212,
   "metadata": {},
   "outputs": [
    {
     "data": {
      "image/png": "[encoded data removed]",
      "text/plain": [
       "<Figure size 720x720 with 1 Axes>"
      ]
     },
     "metadata": {
      "needs_background": "light"
     },
     "output_type": "display_data"
    }
   ],
   "source": [
    "plt.figure(figsize=(10,10))\n",
    "plt.bar(UK_homeping[\"timestamp\"], UK_homeping[\"avg\"])\n",
    "plt.title(\"Home ping of UK\")\n",
    "plt.show()"
   ]
  },
  {
   "cell_type": "code",
   "execution_count": 213,
   "metadata": {},
   "outputs": [
    {
     "data": {
      "image/png": "[encoded data removed]",
      "text/plain": [
       "<Figure size 720x720 with 1 Axes>"
      ]
     },
     "metadata": {
      "needs_background": "light"
     },
     "output_type": "display_data"
    }
   ],
   "source": [
    "plt.figure(figsize=(10,10))\n",
    "plt.bar(UK_fiberping[\"timestamp\"], UK_fiberping[\"avg\"])\n",
    "plt.title(\"Fiber ping of UK\")\n",
    "plt.show()"
   ]
  },
  {
   "cell_type": "code",
   "execution_count": 214,
   "metadata": {},
   "outputs": [
    {
     "data": {
      "image/png": "[encoded data removed]",
      "text/plain": [
       "<Figure size 720x720 with 1 Axes>"
      ]
     },
     "metadata": {
      "needs_background": "light"
     },
     "output_type": "display_data"
    }
   ],
   "source": [
    "plt.figure(figsize=(10,10))\n",
    "plt.bar(UK_lteping[\"timestamp\"], UK_lteping[\"avg\"])\n",
    "plt.title(\"LTE ping of UK\")\n",
    "plt.show()"
   ]
  },
  {
   "cell_type": "code",
   "execution_count": 258,
   "metadata": {},
   "outputs": [
    {
     "data": {
      "image/png": "[encoded data removed]",
      "text/plain": [
       "<Figure size 720x720 with 1 Axes>"
      ]
     },
     "metadata": {
      "needs_background": "light"
     },
     "output_type": "display_data"
    }
   ],
   "source": [
    "plt.figure(figsize=(10,10))\n",
    "plt.bar(UK_wifiping[\"timestamp\"], UK_wifiping[\"avg\"])\n",
    "plt.title(\"WiFi ping of UK\")\n",
    "plt.show()"
   ]
  },
  {
   "cell_type": "code",
   "execution_count": 256,
   "metadata": {},
   "outputs": [
    {
     "data": {
      "image/png": "[encoded data removed]",
      "text/plain": [
       "<Figure size 720x720 with 1 Axes>"
      ]
     },
     "metadata": {
      "needs_background": "light"
     },
     "output_type": "display_data"
    }
   ],
   "source": [
    "plt.figure(figsize=(10,10))\n",
    "plt.bar(UK_cableping[\"timestamp\"], UK_cableping[\"avg\"])\n",
    "plt.title(\"Cable ping of UK\")\n",
    "plt.show()"
   ]
  },
  {
   "cell_type": "markdown",
   "metadata": {},
   "source": [
    "Canada latency"
   ]
  },
  {
   "cell_type": "code",
   "execution_count": 257,
   "metadata": {},
   "outputs": [],
   "source": [
    "CA_homeping = df_homeping.loc[df_homeping['loc'] == 'CA']\n",
    "CA_fiberping = df_fiberping.loc[df_fiberping['loc'] == 'CA']\n",
    "CA_lteping = df_lteping.loc[df_lteping['loc'] == 'CA']\n",
    "CA_wifiping = df_wifiping.loc[df_wifiping['loc'] == 'CA']\n",
    "CA_cableping = df_cableping.loc[df_cableping['loc'] == 'CA']"
   ]
  },
  {
   "cell_type": "code",
   "execution_count": 217,
   "metadata": {},
   "outputs": [
    {
     "data": {
      "image/png": "[encoded data removed]",
      "text/plain": [
       "<Figure size 720x720 with 1 Axes>"
      ]
     },
     "metadata": {
      "needs_background": "light"
     },
     "output_type": "display_data"
    }
   ],
   "source": [
    "plt.figure(figsize=(10,10))\n",
    "plt.bar(CA_homeping[\"timestamp\"], CA_homeping[\"avg\"])\n",
    "plt.title(\"Home ping of CA\")\n",
    "plt.show()"
   ]
  },
  {
   "cell_type": "code",
   "execution_count": 218,
   "metadata": {},
   "outputs": [
    {
     "data": {
      "image/png": "[encoded data removed]",
      "text/plain": [
       "<Figure size 720x720 with 1 Axes>"
      ]
     },
     "metadata": {
      "needs_background": "light"
     },
     "output_type": "display_data"
    }
   ],
   "source": [
    "plt.figure(figsize=(10,10))\n",
    "plt.bar(CA_fiberping[\"timestamp\"], CA_fiberping[\"avg\"])\n",
    "plt.title(\"Fiber ping of CA\")\n",
    "plt.show()"
   ]
  },
  {
   "cell_type": "code",
   "execution_count": 219,
   "metadata": {},
   "outputs": [
    {
     "data": {
      "image/png": "[encoded data removed]",
      "text/plain": [
       "<Figure size 720x720 with 1 Axes>"
      ]
     },
     "metadata": {
      "needs_background": "light"
     },
     "output_type": "display_data"
    }
   ],
   "source": [
    "plt.figure(figsize=(10,10))\n",
    "plt.bar(CA_lteping[\"timestamp\"], CA_lteping[\"avg\"])\n",
    "plt.title(\"LTE ping of CA\")\n",
    "plt.show()"
   ]
  },
  {
   "cell_type": "code",
   "execution_count": 259,
   "metadata": {},
   "outputs": [
    {
     "data": {
      "image/png": "[encoded data removed]",
      "text/plain": [
       "<Figure size 720x720 with 1 Axes>"
      ]
     },
     "metadata": {
      "needs_background": "light"
     },
     "output_type": "display_data"
    }
   ],
   "source": [
    "plt.figure(figsize=(10,10))\n",
    "plt.bar(CA_wifiping[\"timestamp\"], CA_wifiping[\"avg\"])\n",
    "plt.title(\"WiFi ping of CA\")\n",
    "plt.show()"
   ]
  },
  {
   "cell_type": "code",
   "execution_count": 260,
   "metadata": {},
   "outputs": [
    {
     "data": {
      "image/png": "[encoded data removed]",
      "text/plain": [
       "<Figure size 720x720 with 1 Axes>"
      ]
     },
     "metadata": {
      "needs_background": "light"
     },
     "output_type": "display_data"
    }
   ],
   "source": [
    "plt.figure(figsize=(10,10))\n",
    "plt.bar(CA_cableping[\"timestamp\"], CA_cableping[\"avg\"])\n",
    "plt.title(\"Cable ping of CA\")\n",
    "plt.show()"
   ]
  },
  {
   "cell_type": "markdown",
   "metadata": {},
   "source": [
    "India latency"
   ]
  },
  {
   "cell_type": "code",
   "execution_count": 261,
   "metadata": {},
   "outputs": [],
   "source": [
    "IN_homeping = df_homeping.loc[df_homeping['loc'] == 'IN']\n",
    "IN_fiberping = df_fiberping.loc[df_fiberping['loc'] == 'IN']\n",
    "IN_lteping = df_lteping.loc[df_lteping['loc'] == 'IN']\n",
    "IN_wifiping = df_wifiping.loc[df_wifiping['loc'] == 'IN']\n",
    "IN_cableping = df_cableping.loc[df_cableping['loc'] == 'IN']"
   ]
  },
  {
   "cell_type": "code",
   "execution_count": 262,
   "metadata": {},
   "outputs": [
    {
     "data": {
      "image/png": "[encoded data removed]",
      "text/plain": [
       "<Figure size 720x720 with 1 Axes>"
      ]
     },
     "metadata": {
      "needs_background": "light"
     },
     "output_type": "display_data"
    }
   ],
   "source": [
    "plt.figure(figsize=(10,10))\n",
    "plt.bar(IN_homeping[\"timestamp\"], IN_homeping[\"avg\"])\n",
    "plt.title(\"Home ping of IN\")\n",
    "plt.show()"
   ]
  },
  {
   "cell_type": "code",
   "execution_count": 263,
   "metadata": {},
   "outputs": [
    {
     "data": {
      "image/png": "[encoded data removed]",
      "text/plain": [
       "<Figure size 720x720 with 1 Axes>"
      ]
     },
     "metadata": {
      "needs_background": "light"
     },
     "output_type": "display_data"
    }
   ],
   "source": [
    "plt.figure(figsize=(10,10))\n",
    "plt.bar(IN_fiberping[\"timestamp\"], IN_fiberping[\"avg\"])\n",
    "plt.title(\"Fiber ping of IN\")\n",
    "plt.show()"
   ]
  },
  {
   "cell_type": "code",
   "execution_count": 264,
   "metadata": {},
   "outputs": [
    {
     "data": {
      "image/png": "[encoded data removed]",
      "text/plain": [
       "<Figure size 720x720 with 1 Axes>"
      ]
     },
     "metadata": {
      "needs_background": "light"
     },
     "output_type": "display_data"
    }
   ],
   "source": [
    "plt.figure(figsize=(10,10))\n",
    "plt.bar(IN_lteping[\"timestamp\"], IN_lteping[\"avg\"])\n",
    "plt.title(\"LTE ping of IN\")\n",
    "plt.show()"
   ]
  },
  {
   "cell_type": "code",
   "execution_count": 265,
   "metadata": {},
   "outputs": [
    {
     "data": {
      "image/png": "[encoded data removed]",
      "text/plain": [
       "<Figure size 720x720 with 1 Axes>"
      ]
     },
     "metadata": {
      "needs_background": "light"
     },
     "output_type": "display_data"
    }
   ],
   "source": [
    "plt.figure(figsize=(10,10))\n",
    "plt.bar(IN_wifiping[\"timestamp\"], IN_wifiping[\"avg\"])\n",
    "plt.title(\"WiFi ping of IN\")\n",
    "plt.show()"
   ]
  },
  {
   "cell_type": "code",
   "execution_count": 266,
   "metadata": {},
   "outputs": [
    {
     "data": {
      "image/png": "[encoded data removed]",
      "text/plain": [
       "<Figure size 720x720 with 1 Axes>"
      ]
     },
     "metadata": {
      "needs_background": "light"
     },
     "output_type": "display_data"
    }
   ],
   "source": [
    "plt.figure(figsize=(10,10))\n",
    "plt.bar(IN_cableping[\"timestamp\"], IN_cableping[\"avg\"])\n",
    "plt.title(\"Cable ping of IN\")\n",
    "plt.show()"
   ]
  },
  {
   "cell_type": "code",
   "execution_count": null,
   "metadata": {},
   "outputs": [],
   "source": []
  }
 ],
 "metadata": {
  "kernelspec": {
   "display_name": "Python 3.9.1 64-bit",
   "language": "python",
   "name": "python3"
  },
  "language_info": {
   "codemirror_mode": {
    "name": "ipython",
    "version": 3
   },
   "file_extension": ".py",
   "mimetype": "text/x-python",
   "name": "python",
   "nbconvert_exporter": "python",
   "pygments_lexer": "ipython3",
   "version": "3.9.1"
  },
  "orig_nbformat": 4,
  "vscode": {
   "interpreter": {
    "hash": "8bb7827f47cd248081edd9fae95b0b9fdd57b4fc1bdee42bda07c6c0f696abf2"
   }
  }
 },
 "nbformat": 4,
 "nbformat_minor": 2
}
