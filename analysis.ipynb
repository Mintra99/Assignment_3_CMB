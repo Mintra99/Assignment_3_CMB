{
 "cells": [
  {
   "cell_type": "code",
   "execution_count": 2,
   "metadata": {},
   "outputs": [],
   "source": [
    "import pandas as pd\n",
    "import numpy as np\n",
    "\n",
    "import json\n",
    "import glob"
   ]
  },
  {
   "cell_type": "code",
   "execution_count": 3,
   "metadata": {},
   "outputs": [],
   "source": [
    "Home_Ping = glob.glob(\"Home/Ping/*\")"
   ]
  },
  {
   "cell_type": "code",
   "execution_count": 4,
   "metadata": {},
   "outputs": [],
   "source": [
    "for hp in Home_Ping:\n",
    "    f = open(hp)\n",
    "    hp_data = json.load(f)\n",
    "    for i in hp_data:\n",
    "            time = pd.to_datetime(i[\"timestamp\"], unit=\"s\")\n",
    "            min = i[\"min\"]\n",
    "            max = i[\"max\"]\n",
    "            avg = i[\"avg\"]\n",
    "            print(i)"
   ]
  },
  {
   "cell_type": "code",
   "execution_count": null,
   "metadata": {},
   "outputs": [],
   "source": []
  }
 ],
 "metadata": {
  "kernelspec": {
   "display_name": "Python 3.9.1 64-bit",
   "language": "python",
   "name": "python3"
  },
  "language_info": {
   "codemirror_mode": {
    "name": "ipython",
    "version": 3
   },
   "file_extension": ".py",
   "mimetype": "text/x-python",
   "name": "python",
   "nbconvert_exporter": "python",
   "pygments_lexer": "ipython3",
   "version": "3.9.1"
  },
  "orig_nbformat": 4,
  "vscode": {
   "interpreter": {
    "hash": "8bb7827f47cd248081edd9fae95b0b9fdd57b4fc1bdee42bda07c6c0f696abf2"
   }
  }
 },
 "nbformat": 4,
 "nbformat_minor": 2
}
