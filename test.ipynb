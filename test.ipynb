{
 "cells": [
  {
   "cell_type": "code",
   "execution_count": 71,
   "metadata": {},
   "outputs": [],
   "source": [
    "import json\n",
    "import pandas as pd\n",
    "import glob\n",
    "import random\n",
    "\n",
    "random.seed(333)"
   ]
  },
  {
   "cell_type": "markdown",
   "metadata": {},
   "source": [
    "Create a list for all files"
   ]
  },
  {
   "cell_type": "code",
   "execution_count": 58,
   "metadata": {},
   "outputs": [],
   "source": [
    "files = glob.glob(\"json/*\")"
   ]
  },
  {
   "cell_type": "code",
   "execution_count": 59,
   "metadata": {},
   "outputs": [],
   "source": [
    "uniqueTag = []\n",
    "tagDict = {}\n",
    "wlanList = []\n",
    "homeList = []\n",
    "lteList = []"
   ]
  },
  {
   "cell_type": "markdown",
   "metadata": {},
   "source": [
    "Sort all probes into list by their tags (wlan, home, lte)"
   ]
  },
  {
   "cell_type": "code",
   "execution_count": 60,
   "metadata": {},
   "outputs": [],
   "source": [
    "for i in files:\n",
    "    f = open(i)\n",
    "    data = json.load(f)\n",
    "    for w in data[\"objects\"]:\n",
    "        if \"wlan\" in w[\"tags\"] and w[\"status_name\"] == \"Connected\":\n",
    "            wlanList.append(w)\n",
    "        if \"home\" in w[\"tags\"] and w[\"status_name\"] == \"Connected\":\n",
    "            homeList.append(w)\n",
    "        if \"lte\" in w[\"tags\"] and w[\"status_name\"] == \"Connected\":\n",
    "            lteList.append(w)\n",
    "    "
   ]
  },
  {
   "cell_type": "code",
   "execution_count": 61,
   "metadata": {},
   "outputs": [
    {
     "name": "stdout",
     "output_type": "stream",
     "text": [
      "wlan: 21\n",
      "home: 76818\n",
      "lte: 2485\n"
     ]
    }
   ],
   "source": [
    "print(f\"wlan: {len(wlanList)}\")\n",
    "print(f\"home: {len(homeList)}\")\n",
    "print(f\"lte: {len(lteList)}\")"
   ]
  },
  {
   "cell_type": "markdown",
   "metadata": {},
   "source": [
    "Retrieve 100 random ids from the taglists"
   ]
  },
  {
   "cell_type": "code",
   "execution_count": 76,
   "metadata": {},
   "outputs": [
    {
     "ename": "TypeError",
     "evalue": "'<' not supported between instances of 'dict' and 'dict'",
     "output_type": "error",
     "traceback": [
      "\u001b[1;31m---------------------------------------------------------------------------\u001b[0m",
      "\u001b[1;31mTypeError\u001b[0m                                 Traceback (most recent call last)",
      "\u001b[1;32m~\\AppData\\Local\\Temp/ipykernel_7636/4082025738.py\u001b[0m in \u001b[0;36m<module>\u001b[1;34m\u001b[0m\n\u001b[0;32m      2\u001b[0m \u001b[0mrandom\u001b[0m\u001b[1;33m.\u001b[0m\u001b[0mshuffle\u001b[0m\u001b[1;33m(\u001b[0m\u001b[0mhomeList\u001b[0m\u001b[1;33m)\u001b[0m\u001b[1;33m\u001b[0m\u001b[1;33m\u001b[0m\u001b[0m\n\u001b[0;32m      3\u001b[0m \u001b[1;33m\u001b[0m\u001b[0m\n\u001b[1;32m----> 4\u001b[1;33m \u001b[0mlteList\u001b[0m\u001b[1;33m.\u001b[0m\u001b[0msort\u001b[0m\u001b[1;33m(\u001b[0m\u001b[1;33m)\u001b[0m\u001b[1;33m\u001b[0m\u001b[1;33m\u001b[0m\u001b[0m\n\u001b[0m\u001b[0;32m      5\u001b[0m \u001b[0mhomeList\u001b[0m\u001b[1;33m.\u001b[0m\u001b[0msort\u001b[0m\u001b[1;33m(\u001b[0m\u001b[1;33m)\u001b[0m\u001b[1;33m\u001b[0m\u001b[1;33m\u001b[0m\u001b[0m\n",
      "\u001b[1;31mTypeError\u001b[0m: '<' not supported between instances of 'dict' and 'dict'"
     ]
    }
   ],
   "source": [
    "random.shuffle(lteList)\n",
    "random.shuffle(homeList)"
   ]
  },
  {
   "cell_type": "code",
   "execution_count": 73,
   "metadata": {},
   "outputs": [],
   "source": [
    "lte_100_id = []\n",
    "home_100_id = []"
   ]
  },
  {
   "cell_type": "code",
   "execution_count": 74,
   "metadata": {},
   "outputs": [],
   "source": [
    "for i in lteList[:100]:\n",
    "    lte_100_id.append(i[\"id\"])\n",
    "\n",
    "for i in homeList[:100]:\n",
    "    home_100_id.append(i[\"id\"])"
   ]
  },
  {
   "cell_type": "code",
   "execution_count": 77,
   "metadata": {},
   "outputs": [],
   "source": [
    "home_100_id.sort()\n",
    "lte_100_id.sort()"
   ]
  },
  {
   "cell_type": "code",
   "execution_count": 78,
   "metadata": {},
   "outputs": [
    {
     "data": {
      "text/plain": [
       "[466,\n",
       " 825,\n",
       " 882,\n",
       " 1268,\n",
       " 1340,\n",
       " 1359,\n",
       " 1367,\n",
       " 2550,\n",
       " 3150,\n",
       " 3668,\n",
       " 4472,\n",
       " 4879,\n",
       " 10322,\n",
       " 10770,\n",
       " 10866,\n",
       " 11090,\n",
       " 12166,\n",
       " 12279,\n",
       " 12474,\n",
       " 13318,\n",
       " 15792,\n",
       " 15885,\n",
       " 15976,\n",
       " 16857,\n",
       " 16923,\n",
       " 17022,\n",
       " 17472,\n",
       " 17744,\n",
       " 18138,\n",
       " 18396,\n",
       " 19680,\n",
       " 19966,\n",
       " 20372,\n",
       " 20520,\n",
       " 20833,\n",
       " 20913,\n",
       " 22715,\n",
       " 23764,\n",
       " 23771,\n",
       " 24725,\n",
       " 24858,\n",
       " 25442,\n",
       " 25737,\n",
       " 26156,\n",
       " 26705,\n",
       " 27321,\n",
       " 27353,\n",
       " 27932,\n",
       " 28541,\n",
       " 28907,\n",
       " 28932,\n",
       " 28973,\n",
       " 29306,\n",
       " 29509,\n",
       " 29606,\n",
       " 29764,\n",
       " 31565,\n",
       " 32254,\n",
       " 34601,\n",
       " 34614,\n",
       " 50638,\n",
       " 50806,\n",
       " 51525,\n",
       " 52413,\n",
       " 52779,\n",
       " 53221,\n",
       " 53247,\n",
       " 53438,\n",
       " 53527,\n",
       " 54041,\n",
       " 54250,\n",
       " 54251,\n",
       " 54461,\n",
       " 54742,\n",
       " 54782,\n",
       " 54828,\n",
       " 55214,\n",
       " 55392,\n",
       " 55511,\n",
       " 55611,\n",
       " 55739,\n",
       " 60544,\n",
       " 60611,\n",
       " 62139,\n",
       " 62692,\n",
       " 1000172,\n",
       " 1000172,\n",
       " 1000173,\n",
       " 1000339,\n",
       " 1000483,\n",
       " 1000938,\n",
       " 1002225,\n",
       " 1002274,\n",
       " 1002685,\n",
       " 1002855,\n",
       " 1002912,\n",
       " 1003440,\n",
       " 1003805,\n",
       " 1003805,\n",
       " 1004752]"
      ]
     },
     "execution_count": 78,
     "metadata": {},
     "output_type": "execute_result"
    }
   ],
   "source": [
    "home_100_id"
   ]
  },
  {
   "cell_type": "code",
   "execution_count": 79,
   "metadata": {},
   "outputs": [
    {
     "data": {
      "text/plain": [
       "[689,\n",
       " 689,\n",
       " 689,\n",
       " 3601,\n",
       " 3601,\n",
       " 4069,\n",
       " 11824,\n",
       " 12165,\n",
       " 12279,\n",
       " 12279,\n",
       " 13308,\n",
       " 14536,\n",
       " 14536,\n",
       " 14536,\n",
       " 15651,\n",
       " 16494,\n",
       " 16588,\n",
       " 16588,\n",
       " 20544,\n",
       " 20544,\n",
       " 20551,\n",
       " 22258,\n",
       " 22394,\n",
       " 22394,\n",
       " 22394,\n",
       " 24555,\n",
       " 25262,\n",
       " 25993,\n",
       " 25993,\n",
       " 25993,\n",
       " 26057,\n",
       " 26320,\n",
       " 26320,\n",
       " 26831,\n",
       " 27351,\n",
       " 28260,\n",
       " 29793,\n",
       " 33318,\n",
       " 33717,\n",
       " 33824,\n",
       " 33824,\n",
       " 34435,\n",
       " 34435,\n",
       " 34612,\n",
       " 50024,\n",
       " 50081,\n",
       " 50180,\n",
       " 50288,\n",
       " 50412,\n",
       " 50532,\n",
       " 50612,\n",
       " 50640,\n",
       " 51485,\n",
       " 51485,\n",
       " 52028,\n",
       " 52413,\n",
       " 52731,\n",
       " 53236,\n",
       " 54028,\n",
       " 55449,\n",
       " 55449,\n",
       " 55495,\n",
       " 55677,\n",
       " 55795,\n",
       " 60200,\n",
       " 60435,\n",
       " 61689,\n",
       " 62868,\n",
       " 1000234,\n",
       " 1000234,\n",
       " 1000568,\n",
       " 1000568,\n",
       " 1000879,\n",
       " 1000879,\n",
       " 1000879,\n",
       " 1001242,\n",
       " 1001633,\n",
       " 1001738,\n",
       " 1002075,\n",
       " 1002225,\n",
       " 1002274,\n",
       " 1002304,\n",
       " 1002304,\n",
       " 1002318,\n",
       " 1002318,\n",
       " 1002522,\n",
       " 1002932,\n",
       " 1002932,\n",
       " 1003040,\n",
       " 1003494,\n",
       " 1003494,\n",
       " 1003494,\n",
       " 1003610,\n",
       " 1003746,\n",
       " 1004854,\n",
       " 1004854,\n",
       " 1004866,\n",
       " 1005061,\n",
       " 1005061,\n",
       " 1005104]"
      ]
     },
     "execution_count": 79,
     "metadata": {},
     "output_type": "execute_result"
    }
   ],
   "source": [
    "lte_100_id[:100]"
   ]
  },
  {
   "cell_type": "code",
   "execution_count": null,
   "metadata": {},
   "outputs": [],
   "source": []
  }
 ],
 "metadata": {
  "kernelspec": {
   "display_name": "Python 3.9.1 64-bit",
   "language": "python",
   "name": "python3"
  },
  "language_info": {
   "codemirror_mode": {
    "name": "ipython",
    "version": 3
   },
   "file_extension": ".py",
   "mimetype": "text/x-python",
   "name": "python",
   "nbconvert_exporter": "python",
   "pygments_lexer": "ipython3",
   "version": "3.9.1"
  },
  "orig_nbformat": 4,
  "vscode": {
   "interpreter": {
    "hash": "8bb7827f47cd248081edd9fae95b0b9fdd57b4fc1bdee42bda07c6c0f696abf2"
   }
  }
 },
 "nbformat": 4,
 "nbformat_minor": 2
}
